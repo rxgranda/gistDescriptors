{
 "cells": [
  {
   "cell_type": "code",
   "execution_count": 22,
   "metadata": {},
   "outputs": [],
   "source": [
    "from PIL import Image\n",
    "import numpy as np"
   ]
  },
  {
   "cell_type": "code",
   "execution_count": 3,
   "metadata": {},
   "outputs": [],
   "source": [
    "def unpickle(file):\n",
    "    import pickle\n",
    "    with open(file, 'rb') as fo:\n",
    "        dict = pickle.load(fo, encoding='bytes')\n",
    "    return dict\n"
   ]
  },
  {
   "cell_type": "code",
   "execution_count": 8,
   "metadata": {},
   "outputs": [],
   "source": [
    "dataset=\"cifar-10-batches-py\\\\\"\n",
    "batches={0:\"data_batch_1\"}\n",
    "database=unpickle(dataset+batches[0])"
   ]
  },
  {
   "cell_type": "code",
   "execution_count": 9,
   "metadata": {},
   "outputs": [
    {
     "data": {
      "text/plain": [
       "dict_keys([b'batch_label', b'labels', b'data', b'filenames'])"
      ]
     },
     "execution_count": 9,
     "metadata": {},
     "output_type": "execute_result"
    }
   ],
   "source": [
    "database.keys()"
   ]
  },
  {
   "cell_type": "code",
   "execution_count": 31,
   "metadata": {},
   "outputs": [
    {
     "data": {
      "text/plain": [
       "(3072,)"
      ]
     },
     "execution_count": 31,
     "metadata": {},
     "output_type": "execute_result"
    }
   ],
   "source": [
    "database[ b'data'].shape\n",
    "database[ b'data'][0].shape\n",
    "A=database[ b'data'][0]\n",
    "B = np.reshape(A,(32,32,3))\n"
   ]
  },
  {
   "cell_type": "code",
   "execution_count": 25,
   "metadata": {},
   "outputs": [],
   "source": [
    "w, h = 512, 512\n",
    "data = np.zeros((h, w, 3), dtype=np.uint8)\n",
    "data[256, 256] = [255, 0, 0]\n",
    "img = Image.fromarray(data, 'RGB')\n",
    "img.save('my.png')\n",
    "img.show()"
   ]
  },
  {
   "cell_type": "code",
   "execution_count": 34,
   "metadata": {},
   "outputs": [
    {
     "name": "stdout",
     "output_type": "stream",
     "text": [
      "(50000,)\n",
      "(10000,)\n",
      "(32, 32, 3)\n",
      "6\n",
      "frog\n",
      "leptodactylus_pentadactylus_s_000004.png\n",
      "[frog] - leptodactylus_pentadactylus_s_000004.png\n",
      "(50000, 3072) (50000,)\n",
      "(10000, 3072) (10000,)\n"
     ]
    }
   ],
   "source": [
    "from cifar import CIFAR10\n",
    "\n",
    "\n",
    "\n",
    "# Instantiate the dataset. If the dataset is not found in `dataset_root`,\n",
    "#  the first time it is automatically downloaded and extracted there.\n",
    "dataset = CIFAR10(dataset_root='./cifar10')\n",
    "\n",
    "# That's it. Now all examples are in `dataset.samples` dictionary. There\n",
    "#  are 50000 train examples and 10000 test examples.\n",
    "print(dataset.samples['train'].shape)           # (50000,)\n",
    "print(dataset.samples['test'].shape)            # (10000,)\n",
    "\n",
    "# Each example is constituted by a 32x32 RGB image and its\n",
    "#  corresponding label, both numeric and human readable.\n",
    "print(dataset.samples['train'][0].image.shape)  # (32, 32, 3)\n",
    "print(dataset.samples['train'][0].label)        # 6\n",
    "print(dataset.samples['train'][0].label_hr)     # frog\n",
    "print(dataset.samples['train'][0].filename)     # leptodactylus_pentadactylus_s_000004.png\n",
    "\n",
    "# You can also directly print the example\n",
    "print(dataset.samples['train'][0])              # [frog] - leptodactylus_pentadactylus_s_000004.png\n",
    "\n",
    "# You can convert the CIFARSamples to ndarray. Images are possibly flattened\n",
    "#  and/or normalized to be centered on zero (i.e. in range [-0.5, 0.5])\n",
    "x_train, y_train = CIFAR10.to_ndarray(dataset.samples['train'], normalize=True, flatten=True)\n",
    "x_test, y_test = CIFAR10.to_ndarray(dataset.samples['test'], normalize=True, flatten=True)\n",
    "\n",
    "print(x_train.shape, y_train.shape)             # (50000, 3072)  (50000,)\n",
    "print(x_test.shape, y_test.shape)               # (10000, 3072)  (10000,)"
   ]
  },
  {
   "cell_type": "code",
   "execution_count": 35,
   "metadata": {},
   "outputs": [],
   "source": [
    "img = Image.fromarray(dataset.samples['train'][0].image, 'RGB')\n",
    "img.save('my.png')\n",
    "img.show()"
   ]
  },
  {
   "cell_type": "code",
   "execution_count": null,
   "metadata": {},
   "outputs": [],
   "source": []
  }
 ],
 "metadata": {
  "kernelspec": {
   "display_name": "Python 3",
   "language": "python",
   "name": "python3"
  },
  "language_info": {
   "codemirror_mode": {
    "name": "ipython",
    "version": 3
   },
   "file_extension": ".py",
   "mimetype": "text/x-python",
   "name": "python",
   "nbconvert_exporter": "python",
   "pygments_lexer": "ipython3",
   "version": "3.6.5"
  }
 },
 "nbformat": 4,
 "nbformat_minor": 2
}
